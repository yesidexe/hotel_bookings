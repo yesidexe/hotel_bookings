{
 "cells": [
  {
   "cell_type": "markdown",
   "metadata": {},
   "source": [
    "# Hotel Booking"
   ]
  },
  {
   "cell_type": "markdown",
   "metadata": {},
   "source": [
    "En este notebook básicamente realizo algo de EDA con feature engineering para dejar listo el dataset para el modelo"
   ]
  },
  {
   "cell_type": "markdown",
   "metadata": {},
   "source": [
    "## <p style=\"color: #FFFFFF;background: #007E4A80; text-align: center; padding:5px 0; font-weight: 400\">Sobre el dataset</p>"
   ]
  },
  {
   "cell_type": "markdown",
   "metadata": {},
   "source": [
    ">[Fue sacado de este dataset de kaggle](https://www.kaggle.com/datasets/mojtaba142/hotel-booking)"
   ]
  },
  {
   "cell_type": "markdown",
   "metadata": {},
   "source": [
    "*(Esto lo comencé gracias a un curso de código facilito y me gustó su descripción y diccionario de datos, así que los voy a usar)*<br>\n",
    "Hotel Facilito se está preparando para las vacaciones de verano, sin embargo, les preocupa que muchos de sus clientes cancelan de ultima hora, dejándoles con habitaciones vacías – sucede que algunos clientes simplemente no se presentan y, a pesar de que a veces se cobra una cuota de reservación, la gran mayoría de las ganancias se obtiene cuando los huéspedes pagan el resto al ocupar la habitación.\n",
    "\n",
    "Usando sus datos, les gustaría que les ayudaras a identificar a aquellos clientes que tienen más posibilidad de cancelar ya que les gustaría darles seguimiento para que si en caso de que requieran cancelar, se haga con la mayor antelación posible."
   ]
  },
  {
   "cell_type": "markdown",
   "metadata": {},
   "source": [
    " - `hotel`: Hotel en el que se hizo la reserva.\n",
    "  - `is_canceled`: Indica si la reserva fue cancelada o no.\n",
    "  - `lead_time`: Número de días que transcurrieron entre la fecha de ingreso de la reserva en el PMS y la fecha de llegada.\n",
    "  - `arrival_date_year`: Año de la fecha de llegada.\n",
    "  - `arrival_date_month`: Mes de la fecha de llegada con 12 categorías: \"Enero\" a \"Diciembre\".\n",
    "  - `arrival_date_week_number`: Número de semana de la fecha de llegada.\n",
    "  - `arrival_date_day_of_month`: Día del mes de la fecha de llegada.\n",
    "  - `stays_in_weekend_nights`: Número de noches de fin de semana (sábado o domingo) que el huésped se quedó o reservó para quedarse en el hotel.\n",
    "  - `stays_in_week_nights`: Número de noches de semana (lunes a viernes) que el huésped se quedó o reservó para quedarse en el hotel.\n",
    "  - `adults`: Número de adultos.\n",
    "  - `children`: Número de niños.\n",
    "  - `babies`: Número de bebés.\n",
    "  - `meal`: Tipo de comida reservada. Valor categórico.\n",
    "  - `country`: País de origen. Las categorías se representan según ISO 3155–3:2013.\n",
    "  - `market_segment`: Designación del segmento de mercado.\n",
    "  - `distribution_channel`: Canal de distribución de la reserva.\n",
    "  - `is_repeated_guest`: Valor que indica si el nombre de la reserva era de un huésped recurrente (1) o no (0).\n",
    "  - `previous_cancellations`: Número de reservas anteriores que fueron canceladas por el cliente antes de la reserva actual.\n",
    "  - `previous_bookings_not_canceled`: Número de reservas anteriores que no fueron canceladas por el cliente antes de la reserva actual.\n",
    "  - `reserved_room_type`: Código del tipo de habitación reservada. El código se presenta en lugar de la designación por razones de anonimato.\n",
    "  - `assigned_room_type`: Código del tipo de habitación asignada a la reserva. A veces, el tipo de habitación asignada difiere del tipo de habitación reservada debido a razones operativas del hotel (por ejemplo, sobreventa) o por solicitud del cliente. El código se presenta en lugar de la designación por razones de anonimato.\n",
    "  - `booking_changes`: Número de cambios/modificaciones realizados a la reserva desde el momento en que se ingresó en el PMS hasta el momento del check-in o la cancelación.\n",
    "  - `deposit_type`: Indicación de si el cliente hizo un depósito para garantizar la reserva.\n",
    "  - `agent`: ID de la agencia de viajes que realizó la reserva.\n",
    "  - `company`: ID de la empresa/entidad que realizó la reserva o es responsable de pagar la reserva.\n",
    "  - `days_in_waiting_list`: Número de días que la reserva estuvo en lista de espera antes de ser confirmada al cliente.\n",
    "  - `customer_type`: Tipo de reserva.\n",
    "  - `adr`: Tarifa diaria promedio.\n",
    "  - `required_car_parking_spaces`: Número de espacios de estacionamiento requeridos por el cliente.\n",
    "  - `total_of_special_requests`: Número de solicitudes especiales realizadas por el cliente (por ejemplo, cama doble o piso alto).\n",
    "  - `reservation_status`: Último estado de la reserva.\n",
    "  - `reservation_status_date`: Fecha en que se estableció el último estado.\n",
    "  - `name`: Nombre del cliente.\n",
    "  - `email`: Correo electrónico del cliente.\n",
    "  - `phone`: Teléfono del cliente.\n",
    "  - `credit_card`: Últimos cuatro dígitos de la tarjeta de crédito del cliente."
   ]
  },
  {
   "cell_type": "markdown",
   "metadata": {},
   "source": [
    "## <p style=\"color: #FFFFFF;background: #007E4A80; text-align: center; padding:5px 0; font-weight: 400\"> EDA / Feature Engineering </p>"
   ]
  },
  {
   "cell_type": "code",
   "execution_count": 713,
   "metadata": {},
   "outputs": [
    {
     "name": "stdout",
     "output_type": "stream",
     "text": [
      "<class 'pandas.core.frame.DataFrame'>\n",
      "RangeIndex: 119190 entries, 0 to 119189\n",
      "Data columns (total 36 columns):\n",
      " #   Column                          Non-Null Count   Dtype  \n",
      "---  ------                          --------------   -----  \n",
      " 0   hotel                           119190 non-null  object \n",
      " 1   is_canceled                     119190 non-null  int64  \n",
      " 2   lead_time                       119190 non-null  int64  \n",
      " 3   arrival_date_year               119190 non-null  int64  \n",
      " 4   arrival_date_month              119190 non-null  object \n",
      " 5   arrival_date_week_number        119190 non-null  int64  \n",
      " 6   arrival_date_day_of_month       119190 non-null  int64  \n",
      " 7   stays_in_weekend_nights         119190 non-null  int64  \n",
      " 8   stays_in_week_nights            119190 non-null  int64  \n",
      " 9   adults                          119190 non-null  int64  \n",
      " 10  children                        119186 non-null  float64\n",
      " 11  babies                          119190 non-null  int64  \n",
      " 12  meal                            119190 non-null  object \n",
      " 13  country                         118703 non-null  object \n",
      " 14  market_segment                  119190 non-null  object \n",
      " 15  distribution_channel            119190 non-null  object \n",
      " 16  is_repeated_guest               119190 non-null  int64  \n",
      " 17  previous_cancellations          119190 non-null  int64  \n",
      " 18  previous_bookings_not_canceled  119190 non-null  int64  \n",
      " 19  reserved_room_type              119190 non-null  object \n",
      " 20  assigned_room_type              119190 non-null  object \n",
      " 21  booking_changes                 119190 non-null  int64  \n",
      " 22  deposit_type                    119190 non-null  object \n",
      " 23  agent                           102875 non-null  float64\n",
      " 24  company                         6788 non-null    float64\n",
      " 25  days_in_waiting_list            119190 non-null  int64  \n",
      " 26  customer_type                   119190 non-null  object \n",
      " 27  adr                             119190 non-null  float64\n",
      " 28  required_car_parking_spaces     119190 non-null  int64  \n",
      " 29  total_of_special_requests       119190 non-null  int64  \n",
      " 30  reservation_status              119190 non-null  object \n",
      " 31  reservation_status_date         119190 non-null  object \n",
      " 32  name                            119190 non-null  object \n",
      " 33  email                           119190 non-null  object \n",
      " 34  phone-number                    119190 non-null  object \n",
      " 35  credit_card                     119190 non-null  object \n",
      "dtypes: float64(4), int64(16), object(16)\n",
      "memory usage: 32.7+ MB\n"
     ]
    }
   ],
   "source": [
    "import pandas as pd\n",
    "\n",
    "df = pd.read_csv(\"data/hotel_bookings_training.csv\")\n",
    "df.info()"
   ]
  },
  {
   "cell_type": "markdown",
   "metadata": {},
   "source": [
    "Por ahora voy a pasar `reservation_status_date` a formato de fecha"
   ]
  },
  {
   "cell_type": "code",
   "execution_count": 714,
   "metadata": {},
   "outputs": [],
   "source": [
    "df['reservation_status_date'] = pd.to_datetime(df['reservation_status_date'],format='%Y-%m-%d')"
   ]
  },
  {
   "cell_type": "markdown",
   "metadata": {},
   "source": [
    "Voy a eliminar los datos personales, que normalmente son innecesarios"
   ]
  },
  {
   "cell_type": "code",
   "execution_count": 715,
   "metadata": {},
   "outputs": [],
   "source": [
    "df = df.drop(columns=['phone-number','name','email','credit_card'], axis=1)"
   ]
  },
  {
   "cell_type": "markdown",
   "metadata": {},
   "source": [
    "Con `ydata_profiling` voy a realizar un análisis rapidito para ver por encima los datos"
   ]
  },
  {
   "cell_type": "code",
   "execution_count": 716,
   "metadata": {},
   "outputs": [],
   "source": [
    "from ydata_profiling import ProfileReport\n",
    "\n",
    "profile = ProfileReport(df, title='Profiling report')\n",
    "# profile.to_file(\"df_profiling.html\")"
   ]
  },
  {
   "cell_type": "markdown",
   "metadata": {},
   "source": [
    "### <p style=\"color: #FFFFFF;background: #006B8380; text-align: center; padding:5px 0; font-weight: 400\"> Missing values </p>"
   ]
  },
  {
   "cell_type": "code",
   "execution_count": 717,
   "metadata": {},
   "outputs": [
    {
     "data": {
      "text/plain": [
       "hotel                                  0\n",
       "is_canceled                            0\n",
       "lead_time                              0\n",
       "arrival_date_year                      0\n",
       "arrival_date_month                     0\n",
       "arrival_date_week_number               0\n",
       "arrival_date_day_of_month              0\n",
       "stays_in_weekend_nights                0\n",
       "stays_in_week_nights                   0\n",
       "adults                                 0\n",
       "children                               4\n",
       "babies                                 0\n",
       "meal                                   0\n",
       "country                              487\n",
       "market_segment                         0\n",
       "distribution_channel                   0\n",
       "is_repeated_guest                      0\n",
       "previous_cancellations                 0\n",
       "previous_bookings_not_canceled         0\n",
       "reserved_room_type                     0\n",
       "assigned_room_type                     0\n",
       "booking_changes                        0\n",
       "deposit_type                           0\n",
       "agent                              16315\n",
       "company                           112402\n",
       "days_in_waiting_list                   0\n",
       "customer_type                          0\n",
       "adr                                    0\n",
       "required_car_parking_spaces            0\n",
       "total_of_special_requests              0\n",
       "reservation_status                     0\n",
       "reservation_status_date                0\n",
       "dtype: int64"
      ]
     },
     "execution_count": 717,
     "metadata": {},
     "output_type": "execute_result"
    }
   ],
   "source": [
    "df.isnull().sum()"
   ]
  },
  {
   "cell_type": "markdown",
   "metadata": {},
   "source": [
    "Especificamente para `Children` voy a llenarlos con 0"
   ]
  },
  {
   "cell_type": "code",
   "execution_count": 718,
   "metadata": {},
   "outputs": [],
   "source": [
    "df['children'] = df['children'].fillna(0)"
   ]
  },
  {
   "cell_type": "markdown",
   "metadata": {},
   "source": [
    "Voy a eliminar las columnas `agent` y `company` que son variables con una cantidad exagerada de valores nulos, además para saber si el cliente va a cancelar o no, no creo que sirva mucho"
   ]
  },
  {
   "cell_type": "code",
   "execution_count": 719,
   "metadata": {},
   "outputs": [],
   "source": [
    "df = df.drop(columns=['agent','company'],axis=1)"
   ]
  },
  {
   "cell_type": "markdown",
   "metadata": {},
   "source": [
    "Viendo el análisis de `ydata_profiling` el 0.4% de los datos de country son los faltantes, creo que podemos borrarlos"
   ]
  },
  {
   "cell_type": "code",
   "execution_count": 720,
   "metadata": {},
   "outputs": [],
   "source": [
    "df = df.dropna(axis=0)"
   ]
  },
  {
   "cell_type": "markdown",
   "metadata": {},
   "source": [
    "### <p style=\"color: #FFFFFF;background: #006B8380; text-align: center; padding:5px 0; font-weight: 400\"> Duplicated rows </p>"
   ]
  },
  {
   "cell_type": "code",
   "execution_count": 721,
   "metadata": {},
   "outputs": [
    {
     "data": {
      "text/plain": [
       "31905"
      ]
     },
     "execution_count": 721,
     "metadata": {},
     "output_type": "execute_result"
    }
   ],
   "source": [
    "df.duplicated().sum()\n",
    "\n",
    "# Son demasiadas filas, miré y no son dupliadas del todo así que no voy a eliminarlas\n",
    "# df = df.drop_duplicates()"
   ]
  },
  {
   "cell_type": "markdown",
   "metadata": {},
   "source": [
    "### <p style=\"color: #FFFFFF;background: #006B8380; text-align: center; padding:5px 0; font-weight: 400\"> Outliers </p>"
   ]
  },
  {
   "cell_type": "code",
   "execution_count": 722,
   "metadata": {},
   "outputs": [
    {
     "data": {
      "text/html": [
       "<div>\n",
       "<style scoped>\n",
       "    .dataframe tbody tr th:only-of-type {\n",
       "        vertical-align: middle;\n",
       "    }\n",
       "\n",
       "    .dataframe tbody tr th {\n",
       "        vertical-align: top;\n",
       "    }\n",
       "\n",
       "    .dataframe thead th {\n",
       "        text-align: right;\n",
       "    }\n",
       "</style>\n",
       "<table border=\"1\" class=\"dataframe\">\n",
       "  <thead>\n",
       "    <tr style=\"text-align: right;\">\n",
       "      <th></th>\n",
       "      <th>is_canceled</th>\n",
       "      <th>lead_time</th>\n",
       "      <th>arrival_date_year</th>\n",
       "      <th>arrival_date_week_number</th>\n",
       "      <th>arrival_date_day_of_month</th>\n",
       "      <th>stays_in_weekend_nights</th>\n",
       "      <th>stays_in_week_nights</th>\n",
       "      <th>adults</th>\n",
       "      <th>children</th>\n",
       "      <th>babies</th>\n",
       "      <th>is_repeated_guest</th>\n",
       "      <th>previous_cancellations</th>\n",
       "      <th>previous_bookings_not_canceled</th>\n",
       "      <th>booking_changes</th>\n",
       "      <th>days_in_waiting_list</th>\n",
       "      <th>adr</th>\n",
       "      <th>required_car_parking_spaces</th>\n",
       "      <th>total_of_special_requests</th>\n",
       "      <th>reservation_status_date</th>\n",
       "    </tr>\n",
       "  </thead>\n",
       "  <tbody>\n",
       "    <tr>\n",
       "      <th>count</th>\n",
       "      <td>118703.000000</td>\n",
       "      <td>118703.000000</td>\n",
       "      <td>118703.000000</td>\n",
       "      <td>118703.000000</td>\n",
       "      <td>118703.000000</td>\n",
       "      <td>118703.000000</td>\n",
       "      <td>118703.000000</td>\n",
       "      <td>118703.000000</td>\n",
       "      <td>118703.000000</td>\n",
       "      <td>118703.000000</td>\n",
       "      <td>118703.000000</td>\n",
       "      <td>118703.000000</td>\n",
       "      <td>118703.000000</td>\n",
       "      <td>118703.000000</td>\n",
       "      <td>118703.000000</td>\n",
       "      <td>118703.000000</td>\n",
       "      <td>118703.000000</td>\n",
       "      <td>118703.000000</td>\n",
       "      <td>118703</td>\n",
       "    </tr>\n",
       "    <tr>\n",
       "      <th>mean</th>\n",
       "      <td>0.371381</td>\n",
       "      <td>104.315443</td>\n",
       "      <td>2016.157485</td>\n",
       "      <td>27.166483</td>\n",
       "      <td>15.802035</td>\n",
       "      <td>0.929008</td>\n",
       "      <td>2.502262</td>\n",
       "      <td>1.858504</td>\n",
       "      <td>0.104125</td>\n",
       "      <td>0.007953</td>\n",
       "      <td>0.032038</td>\n",
       "      <td>0.087226</td>\n",
       "      <td>0.131698</td>\n",
       "      <td>0.221106</td>\n",
       "      <td>2.325746</td>\n",
       "      <td>101.998175</td>\n",
       "      <td>0.061818</td>\n",
       "      <td>0.571738</td>\n",
       "      <td>2016-07-30 05:58:51.034598912</td>\n",
       "    </tr>\n",
       "    <tr>\n",
       "      <th>min</th>\n",
       "      <td>0.000000</td>\n",
       "      <td>0.000000</td>\n",
       "      <td>2015.000000</td>\n",
       "      <td>1.000000</td>\n",
       "      <td>1.000000</td>\n",
       "      <td>0.000000</td>\n",
       "      <td>0.000000</td>\n",
       "      <td>0.000000</td>\n",
       "      <td>0.000000</td>\n",
       "      <td>0.000000</td>\n",
       "      <td>0.000000</td>\n",
       "      <td>0.000000</td>\n",
       "      <td>0.000000</td>\n",
       "      <td>0.000000</td>\n",
       "      <td>0.000000</td>\n",
       "      <td>-6.380000</td>\n",
       "      <td>0.000000</td>\n",
       "      <td>0.000000</td>\n",
       "      <td>2014-10-17 00:00:00</td>\n",
       "    </tr>\n",
       "    <tr>\n",
       "      <th>25%</th>\n",
       "      <td>0.000000</td>\n",
       "      <td>18.000000</td>\n",
       "      <td>2016.000000</td>\n",
       "      <td>16.000000</td>\n",
       "      <td>8.000000</td>\n",
       "      <td>0.000000</td>\n",
       "      <td>1.000000</td>\n",
       "      <td>2.000000</td>\n",
       "      <td>0.000000</td>\n",
       "      <td>0.000000</td>\n",
       "      <td>0.000000</td>\n",
       "      <td>0.000000</td>\n",
       "      <td>0.000000</td>\n",
       "      <td>0.000000</td>\n",
       "      <td>0.000000</td>\n",
       "      <td>70.000000</td>\n",
       "      <td>0.000000</td>\n",
       "      <td>0.000000</td>\n",
       "      <td>2016-02-02 00:00:00</td>\n",
       "    </tr>\n",
       "    <tr>\n",
       "      <th>50%</th>\n",
       "      <td>0.000000</td>\n",
       "      <td>69.000000</td>\n",
       "      <td>2016.000000</td>\n",
       "      <td>28.000000</td>\n",
       "      <td>16.000000</td>\n",
       "      <td>1.000000</td>\n",
       "      <td>2.000000</td>\n",
       "      <td>2.000000</td>\n",
       "      <td>0.000000</td>\n",
       "      <td>0.000000</td>\n",
       "      <td>0.000000</td>\n",
       "      <td>0.000000</td>\n",
       "      <td>0.000000</td>\n",
       "      <td>0.000000</td>\n",
       "      <td>0.000000</td>\n",
       "      <td>95.000000</td>\n",
       "      <td>0.000000</td>\n",
       "      <td>0.000000</td>\n",
       "      <td>2016-08-07 00:00:00</td>\n",
       "    </tr>\n",
       "    <tr>\n",
       "      <th>75%</th>\n",
       "      <td>1.000000</td>\n",
       "      <td>161.000000</td>\n",
       "      <td>2017.000000</td>\n",
       "      <td>38.000000</td>\n",
       "      <td>23.000000</td>\n",
       "      <td>2.000000</td>\n",
       "      <td>3.000000</td>\n",
       "      <td>2.000000</td>\n",
       "      <td>0.000000</td>\n",
       "      <td>0.000000</td>\n",
       "      <td>0.000000</td>\n",
       "      <td>0.000000</td>\n",
       "      <td>0.000000</td>\n",
       "      <td>0.000000</td>\n",
       "      <td>0.000000</td>\n",
       "      <td>126.000000</td>\n",
       "      <td>0.000000</td>\n",
       "      <td>1.000000</td>\n",
       "      <td>2017-02-09 00:00:00</td>\n",
       "    </tr>\n",
       "    <tr>\n",
       "      <th>max</th>\n",
       "      <td>1.000000</td>\n",
       "      <td>737.000000</td>\n",
       "      <td>2017.000000</td>\n",
       "      <td>53.000000</td>\n",
       "      <td>31.000000</td>\n",
       "      <td>16.000000</td>\n",
       "      <td>41.000000</td>\n",
       "      <td>55.000000</td>\n",
       "      <td>10.000000</td>\n",
       "      <td>10.000000</td>\n",
       "      <td>1.000000</td>\n",
       "      <td>26.000000</td>\n",
       "      <td>72.000000</td>\n",
       "      <td>21.000000</td>\n",
       "      <td>391.000000</td>\n",
       "      <td>5400.000000</td>\n",
       "      <td>8.000000</td>\n",
       "      <td>5.000000</td>\n",
       "      <td>2017-09-14 00:00:00</td>\n",
       "    </tr>\n",
       "    <tr>\n",
       "      <th>std</th>\n",
       "      <td>0.483176</td>\n",
       "      <td>106.911664</td>\n",
       "      <td>0.707529</td>\n",
       "      <td>13.590306</td>\n",
       "      <td>8.781496</td>\n",
       "      <td>0.996222</td>\n",
       "      <td>1.900153</td>\n",
       "      <td>0.578706</td>\n",
       "      <td>0.398974</td>\n",
       "      <td>0.097417</td>\n",
       "      <td>0.176102</td>\n",
       "      <td>0.846527</td>\n",
       "      <td>1.485163</td>\n",
       "      <td>0.652350</td>\n",
       "      <td>17.602227</td>\n",
       "      <td>50.488349</td>\n",
       "      <td>0.244023</td>\n",
       "      <td>0.792752</td>\n",
       "      <td>NaN</td>\n",
       "    </tr>\n",
       "  </tbody>\n",
       "</table>\n",
       "</div>"
      ],
      "text/plain": [
       "         is_canceled      lead_time  arrival_date_year  \\\n",
       "count  118703.000000  118703.000000      118703.000000   \n",
       "mean        0.371381     104.315443        2016.157485   \n",
       "min         0.000000       0.000000        2015.000000   \n",
       "25%         0.000000      18.000000        2016.000000   \n",
       "50%         0.000000      69.000000        2016.000000   \n",
       "75%         1.000000     161.000000        2017.000000   \n",
       "max         1.000000     737.000000        2017.000000   \n",
       "std         0.483176     106.911664           0.707529   \n",
       "\n",
       "       arrival_date_week_number  arrival_date_day_of_month  \\\n",
       "count             118703.000000              118703.000000   \n",
       "mean                  27.166483                  15.802035   \n",
       "min                    1.000000                   1.000000   \n",
       "25%                   16.000000                   8.000000   \n",
       "50%                   28.000000                  16.000000   \n",
       "75%                   38.000000                  23.000000   \n",
       "max                   53.000000                  31.000000   \n",
       "std                   13.590306                   8.781496   \n",
       "\n",
       "       stays_in_weekend_nights  stays_in_week_nights         adults  \\\n",
       "count            118703.000000         118703.000000  118703.000000   \n",
       "mean                  0.929008              2.502262       1.858504   \n",
       "min                   0.000000              0.000000       0.000000   \n",
       "25%                   0.000000              1.000000       2.000000   \n",
       "50%                   1.000000              2.000000       2.000000   \n",
       "75%                   2.000000              3.000000       2.000000   \n",
       "max                  16.000000             41.000000      55.000000   \n",
       "std                   0.996222              1.900153       0.578706   \n",
       "\n",
       "            children         babies  is_repeated_guest  \\\n",
       "count  118703.000000  118703.000000      118703.000000   \n",
       "mean        0.104125       0.007953           0.032038   \n",
       "min         0.000000       0.000000           0.000000   \n",
       "25%         0.000000       0.000000           0.000000   \n",
       "50%         0.000000       0.000000           0.000000   \n",
       "75%         0.000000       0.000000           0.000000   \n",
       "max        10.000000      10.000000           1.000000   \n",
       "std         0.398974       0.097417           0.176102   \n",
       "\n",
       "       previous_cancellations  previous_bookings_not_canceled  \\\n",
       "count           118703.000000                   118703.000000   \n",
       "mean                 0.087226                        0.131698   \n",
       "min                  0.000000                        0.000000   \n",
       "25%                  0.000000                        0.000000   \n",
       "50%                  0.000000                        0.000000   \n",
       "75%                  0.000000                        0.000000   \n",
       "max                 26.000000                       72.000000   \n",
       "std                  0.846527                        1.485163   \n",
       "\n",
       "       booking_changes  days_in_waiting_list            adr  \\\n",
       "count    118703.000000         118703.000000  118703.000000   \n",
       "mean          0.221106              2.325746     101.998175   \n",
       "min           0.000000              0.000000      -6.380000   \n",
       "25%           0.000000              0.000000      70.000000   \n",
       "50%           0.000000              0.000000      95.000000   \n",
       "75%           0.000000              0.000000     126.000000   \n",
       "max          21.000000            391.000000    5400.000000   \n",
       "std           0.652350             17.602227      50.488349   \n",
       "\n",
       "       required_car_parking_spaces  total_of_special_requests  \\\n",
       "count                118703.000000              118703.000000   \n",
       "mean                      0.061818                   0.571738   \n",
       "min                       0.000000                   0.000000   \n",
       "25%                       0.000000                   0.000000   \n",
       "50%                       0.000000                   0.000000   \n",
       "75%                       0.000000                   1.000000   \n",
       "max                       8.000000                   5.000000   \n",
       "std                       0.244023                   0.792752   \n",
       "\n",
       "             reservation_status_date  \n",
       "count                         118703  \n",
       "mean   2016-07-30 05:58:51.034598912  \n",
       "min              2014-10-17 00:00:00  \n",
       "25%              2016-02-02 00:00:00  \n",
       "50%              2016-08-07 00:00:00  \n",
       "75%              2017-02-09 00:00:00  \n",
       "max              2017-09-14 00:00:00  \n",
       "std                              NaN  "
      ]
     },
     "execution_count": 722,
     "metadata": {},
     "output_type": "execute_result"
    }
   ],
   "source": [
    "df.describe()"
   ]
  },
  {
   "cell_type": "code",
   "execution_count": 723,
   "metadata": {},
   "outputs": [
    {
     "data": {
      "text/plain": [
       "<Axes: xlabel='adr'>"
      ]
     },
     "execution_count": 723,
     "metadata": {},
     "output_type": "execute_result"
    },
    {
     "data": {
      "image/png": "[encoded data removed]",
      "text/plain": [
       "<Figure size 640x480 with 1 Axes>"
      ]
     },
     "metadata": {},
     "output_type": "display_data"
    }
   ],
   "source": [
    "import seaborn as sns\n",
    "\n",
    "sns.boxplot(x=df['adr'])"
   ]
  },
  {
   "cell_type": "markdown",
   "metadata": {},
   "source": [
    "Un solo dato no afecta mucho, por lo mismo lo eliminaré"
   ]
  },
  {
   "cell_type": "code",
   "execution_count": 724,
   "metadata": {},
   "outputs": [],
   "source": [
    "df = df[(df['adr']>=0) & (df['adr']<1000)]"
   ]
  },
  {
   "cell_type": "code",
   "execution_count": 725,
   "metadata": {},
   "outputs": [
    {
     "data": {
      "text/plain": [
       "<Axes: xlabel='adr'>"
      ]
     },
     "execution_count": 725,
     "metadata": {},
     "output_type": "execute_result"
    },
    {
     "data": {
      "image/png": "[encoded data removed]",
      "text/plain": [
       "<Figure size 640x480 with 1 Axes>"
      ]
     },
     "metadata": {},
     "output_type": "display_data"
    }
   ],
   "source": [
    "sns.boxplot(x=df['adr'])"
   ]
  },
  {
   "cell_type": "markdown",
   "metadata": {},
   "source": [
    "### <p style=\"color: #FFFFFF;background: #006B8380; text-align: center; padding:5px 0; font-weight: 400\"> Encoding </p>"
   ]
  },
  {
   "cell_type": "markdown",
   "metadata": {},
   "source": [
    "> Acá voy a copiar los datos para realizar modificaciones a uno mientras el original termino de limpiarlo dependiendo del resultado de las modificaciones del otro, mas adelante se entiende mejor"
   ]
  },
  {
   "cell_type": "code",
   "execution_count": 726,
   "metadata": {},
   "outputs": [
    {
     "data": {
      "text/plain": [
       "Index(['hotel', 'arrival_date_month', 'meal', 'country', 'market_segment',\n",
       "       'distribution_channel', 'reserved_room_type', 'assigned_room_type',\n",
       "       'deposit_type', 'customer_type', 'reservation_status'],\n",
       "      dtype='object')"
      ]
     },
     "execution_count": 726,
     "metadata": {},
     "output_type": "execute_result"
    }
   ],
   "source": [
    "data = df.copy()\n",
    "\n",
    "data_cat = data.select_dtypes(include=['object']).columns\n",
    "data_cat"
   ]
  },
  {
   "cell_type": "code",
   "execution_count": 727,
   "metadata": {},
   "outputs": [
    {
     "name": "stdout",
     "output_type": "stream",
     "text": [
      "====================\n",
      "hotel\n",
      "City Hotel      79175\n",
      "Resort Hotel    39526\n",
      "Name: count, dtype: int64\n",
      "====================\n",
      "arrival_date_month\n",
      "August       13835\n",
      "July         12609\n",
      "May          11752\n",
      "October      11079\n",
      "April        11027\n",
      "June         10907\n",
      "September    10454\n",
      "March         9718\n",
      "February      8000\n",
      "November      6733\n",
      "December      6718\n",
      "January       5869\n",
      "Name: count, dtype: int64\n",
      "====================\n",
      "meal\n",
      "BB           91716\n",
      "HB           14405\n",
      "SC           10619\n",
      "Undefined     1165\n",
      "FB             796\n",
      "Name: count, dtype: int64\n",
      "====================\n",
      "country\n",
      "PRT    48510\n",
      "GBR    12112\n",
      "FRA    10400\n",
      "ESP     8549\n",
      "DEU     7273\n",
      "       ...  \n",
      "SLE        1\n",
      "FJI        1\n",
      "BDI        1\n",
      "AIA        1\n",
      "MRT        1\n",
      "Name: count, Length: 177, dtype: int64\n",
      "====================\n",
      "market_segment\n",
      "Online TA        56318\n",
      "Offline TA/TO    24110\n",
      "Groups           19771\n",
      "Direct           12425\n",
      "Corporate         5108\n",
      "Complementary      732\n",
      "Aviation           235\n",
      "Undefined            2\n",
      "Name: count, dtype: int64\n",
      "====================\n",
      "distribution_channel\n",
      "TA/TO        97566\n",
      "Direct       14453\n",
      "Corporate     6484\n",
      "GDS            193\n",
      "Undefined        5\n",
      "Name: count, dtype: int64\n",
      "====================\n",
      "reserved_room_type\n",
      "A    85453\n",
      "D    19148\n",
      "E     6483\n",
      "F     2884\n",
      "G     2080\n",
      "B     1116\n",
      "C      929\n",
      "H      600\n",
      "L        6\n",
      "P        2\n",
      "Name: count, dtype: int64\n",
      "====================\n",
      "assigned_room_type\n",
      "A    73733\n",
      "D    25131\n",
      "E     7723\n",
      "F     3725\n",
      "G     2534\n",
      "C     2352\n",
      "B     2160\n",
      "H      705\n",
      "I      356\n",
      "K      279\n",
      "P        2\n",
      "L        1\n",
      "Name: count, dtype: int64\n",
      "====================\n",
      "deposit_type\n",
      "No Deposit    103992\n",
      "Non Refund     14548\n",
      "Refundable       161\n",
      "Name: count, dtype: int64\n",
      "====================\n",
      "customer_type\n",
      "Transient          89027\n",
      "Transient-Party    25029\n",
      "Contract            4075\n",
      "Group                570\n",
      "Name: count, dtype: int64\n",
      "====================\n",
      "reservation_status\n",
      "Check-Out    74618\n",
      "Canceled     42883\n",
      "No-Show       1200\n",
      "Name: count, dtype: int64\n"
     ]
    }
   ],
   "source": [
    "for _ in data_cat:\n",
    "    print('=='*10)\n",
    "    print(data[_].value_counts())"
   ]
  },
  {
   "cell_type": "markdown",
   "metadata": {},
   "source": [
    "> Me quedé con la duda, no sé como realizar lo de abajo con un pipeline, o columnTransformer en caso de necesitarlo en el futuro, afortunadamente no lo voy a necesitar porque es una variable que borraré"
   ]
  },
  {
   "cell_type": "code",
   "execution_count": 728,
   "metadata": {},
   "outputs": [],
   "source": [
    "# Convierto esta a numerico\n",
    "data['reservation_status'] = data['reservation_status'].apply(lambda x: 1 if x == 'Check-Out' else 0)"
   ]
  },
  {
   "cell_type": "code",
   "execution_count": 729,
   "metadata": {},
   "outputs": [],
   "source": [
    "encoder = pd.get_dummies(data[['hotel','meal','distribution_channel','reserved_room_type','assigned_room_type','customer_type','deposit_type','arrival_date_month']])*1\n",
    "data = pd.concat([data, encoder], axis=1)\n",
    "# Acá también elimino country y market_segment\n",
    "data = data.drop(columns=['country','market_segment','hotel','meal','distribution_channel','reserved_room_type','assigned_room_type','customer_type','deposit_type','arrival_date_month'], axis=1)"
   ]
  },
  {
   "cell_type": "markdown",
   "metadata": {},
   "source": [
    "> eliminé `market_segment` porque tendia a correlacionarse con `distribution_channel`<br> También elminé `country` por tener muchos datos y no puedo hacerle encoding"
   ]
  },
  {
   "cell_type": "markdown",
   "metadata": {},
   "source": [
    "Puedo obervar las correlaciones, si quiero ver a detalle una puedo utilizar\n",
    "`data['is_canceled'].corr(data['reservation_status'])`"
   ]
  },
  {
   "cell_type": "code",
   "execution_count": 730,
   "metadata": {},
   "outputs": [],
   "source": [
    "import matplotlib.pyplot as plt\n",
    "\n",
    "# plt.figure(figsize=(20, 20))\n",
    "# sns.heatmap(data.corr(), annot=False,  cmap='coolwarm', fmt='.2f',linecolor='black',linewidths=0.01)"
   ]
  },
  {
   "cell_type": "markdown",
   "metadata": {},
   "source": [
    "Vemos que hay unas variables altamente relacionadas aparte de las del encoding, procedemos a eliminarlas.<br>\n",
    "*también las eliminamos del dataset original que usaremos para el pipeline*"
   ]
  },
  {
   "cell_type": "code",
   "execution_count": 731,
   "metadata": {},
   "outputs": [],
   "source": [
    "# Dataset original\n",
    "df = df.drop(['reservation_status','reservation_status_date'],axis=1)\n",
    "\n",
    "# Dataset de prueba (el que ando modificando antes de usar pipelines)\n",
    "data = data.drop(['reservation_status','reservation_status_date'],axis=1)"
   ]
  },
  {
   "cell_type": "markdown",
   "metadata": {},
   "source": [
    "### <p style=\"color: #FFFFFF;background: #006B8380; text-align: center; padding:5px 0; font-weight: 400\"> Binarizer </p>"
   ]
  },
  {
   "cell_type": "code",
   "execution_count": 732,
   "metadata": {},
   "outputs": [],
   "source": [
    "from sklearn.preprocessing import Binarizer\n",
    "\n",
    "binarizer = Binarizer()"
   ]
  },
  {
   "cell_type": "markdown",
   "metadata": {},
   "source": [
    "Un ejemplo de este uso seria en `total_of_special_requests`, esta columna nos dice cuantas peticiones especiales hizo el cliente, por ejemplo, si pidió almohadas, que oliera a x cosa, etc.\n",
    "\n",
    "Como solo queremos saber si hizo o no peticiones podemos usar `Binarizer` con el fin de unicamente saber si hizo o no, peticiones"
   ]
  },
  {
   "cell_type": "code",
   "execution_count": 733,
   "metadata": {},
   "outputs": [],
   "source": [
    "data['previous_cancellations'] = binarizer.fit_transform(data[['previous_cancellations']])\n",
    "data['previous_bookings_not_canceled'] = binarizer.fit_transform(data[['previous_bookings_not_canceled']])\n",
    "data['booking_changes'] = binarizer.fit_transform(data[['booking_changes']])\n",
    "data['required_car_parking_spaces'] = binarizer.fit_transform(data[['required_car_parking_spaces']])\n",
    "data['total_of_special_requests'] = binarizer.fit_transform(data[['total_of_special_requests']])\n",
    "\n",
    "# encoder = pd.get_dummies(data[['previous_cancellations','previous_bookings_not_canceled','booking_changes','required_car_parking_spaces','total_of_special_requests']])*1\n",
    "# data = pd.concat([data, encoder], axis=1)\n",
    "# data = data.drop(columns=['previous_cancellations', 'previous_bookings_not_canceled', 'booking_changes', 'required_car_parking_spaces', 'total_of_special_requests'], axis=1)"
   ]
  },
  {
   "cell_type": "markdown",
   "metadata": {},
   "source": [
    "### <p style=\"color: #FFFFFF;background: #006B8380; text-align: center; padding:5px 0; font-weight: 400\"> Train test split </p>"
   ]
  },
  {
   "cell_type": "code",
   "execution_count": 734,
   "metadata": {},
   "outputs": [],
   "source": [
    "X = data.drop(['is_canceled'], axis=1)\n",
    "y = data['is_canceled']"
   ]
  },
  {
   "cell_type": "markdown",
   "metadata": {},
   "source": [
    "Para no complicarme, solo asigno el 0.6 a training y el resto a test y val, o sea 0.2 y 0.2"
   ]
  },
  {
   "cell_type": "code",
   "execution_count": 735,
   "metadata": {},
   "outputs": [
    {
     "name": "stdout",
     "output_type": "stream",
     "text": [
      "71220 23740 23741 118701\n"
     ]
    }
   ],
   "source": [
    "original_count = len(data)\n",
    "training_size = 0.6\n",
    "test_size = (1-training_size)/2\n",
    "\n",
    "training_count = int(original_count * training_size)\n",
    "test_count = int(original_count * test_size)\n",
    "validation_count = int(original_count -training_count-test_count)\n",
    "\n",
    "print(training_count, test_count, validation_count, original_count)"
   ]
  },
  {
   "cell_type": "code",
   "execution_count": 736,
   "metadata": {},
   "outputs": [
    {
     "name": "stdout",
     "output_type": "stream",
     "text": [
      "71220 23741 23740\n"
     ]
    }
   ],
   "source": [
    "from sklearn.model_selection import train_test_split\n",
    "\n",
    "# rest es el resto\n",
    "train_x, rest_x, train_y, rest_y = train_test_split(X,y, train_size=training_count, random_state=42)\n",
    "test_x, validate_x, test_y, validate_y = train_test_split(rest_x, rest_y, test_size=test_count, random_state=42, stratify=rest_y)\n",
    "\n",
    "print(len(train_x), len(test_x), len(validate_x))"
   ]
  },
  {
   "cell_type": "markdown",
   "metadata": {},
   "source": [
    "### <p style=\"color: #FFFFFF;background: #006B8380; text-align: center; padding:5px 0; font-weight: 400\"> Feature scaling </p>"
   ]
  },
  {
   "cell_type": "markdown",
   "metadata": {},
   "source": [
    "Viendo bien el dataset la unica posible escalda seria para `adr`"
   ]
  },
  {
   "cell_type": "code",
   "execution_count": 737,
   "metadata": {},
   "outputs": [],
   "source": [
    "from sklearn.preprocessing import RobustScaler\n",
    "\n",
    "scaler = RobustScaler()\n",
    "scaler.fit(train_x[['adr']])\n",
    "\n",
    "train_x['adr'] = scaler.transform(train_x[['adr']])\n",
    "validate_x['adr'] = scaler.transform(validate_x[['adr']])"
   ]
  },
  {
   "cell_type": "markdown",
   "metadata": {},
   "source": [
    "## <p style=\"color: #FFFFFF;background: #007E4A80; text-align: center; padding:5px 0; font-weight: 400\"> Machine learning </p>"
   ]
  },
  {
   "cell_type": "markdown",
   "metadata": {},
   "source": [
    "### <p style=\"color: #FFFFFF;background: #006B8380; text-align: center; padding:5px 0; font-weight: 400\"> Model </p>"
   ]
  },
  {
   "cell_type": "markdown",
   "metadata": {},
   "source": [
    "Voy a utilizar optuna para los hiperparámetros de RandomForest"
   ]
  },
  {
   "cell_type": "code",
   "execution_count": 738,
   "metadata": {},
   "outputs": [
    {
     "name": "stderr",
     "output_type": "stream",
     "text": [
      "[I 2024-03-25 00:48:20,025] A new study created in memory with name: no-name-1afc08fb-089d-4f70-b44f-7945d218f068\n"
     ]
    }
   ],
   "source": [
    "import optuna\n",
    "from sklearn.ensemble import RandomForestClassifier\n",
    "\n",
    "study = optuna.create_study(direction=\"maximize\")\n",
    "\n",
    "def objective(trial):\n",
    "    criterion = trial.suggest_categorical(\"criterion\", [\"gini\", \"entropy\"])\n",
    "    max_depth = trial.suggest_int(\"max_depth\", 2, 10)\n",
    "    n_stimators = trial.suggest_int(\"n_estimators\", 10, 100)\n",
    "    \n",
    "    model = RandomForestClassifier(criterion=criterion, max_depth=max_depth, n_estimators=n_stimators,random_state=10)\n",
    "    \n",
    "    model.fit(train_x, train_y)\n",
    "    \n",
    "    return model.score(validate_x, validate_y)\n",
    "\n",
    "# study.optimize(objective, n_trials=100)\n",
    "# print(f'Best parameters: {study.best_params}')\n",
    "# print(f'Best score: {study.best_value}')"
   ]
  },
  {
   "cell_type": "markdown",
   "metadata": {},
   "source": [
    "Los \"probamos\" y vemos que está suave"
   ]
  },
  {
   "cell_type": "code",
   "execution_count": 739,
   "metadata": {},
   "outputs": [
    {
     "name": "stdout",
     "output_type": "stream",
     "text": [
      "0.8072311148553777 0.8029907329401853 0.5162282200204988\n"
     ]
    }
   ],
   "source": [
    "from sklearn.metrics import accuracy_score, recall_score\n",
    "\n",
    "rfc = RandomForestClassifier(n_estimators=87,random_state=10, criterion='gini',max_depth=10)\n",
    "rfc.fit(train_x, train_y)\n",
    "\n",
    "pred_y = rfc.predict(validate_x)\n",
    "print(rfc.score(train_x,train_y),accuracy_score(validate_y, pred_y), recall_score(validate_y, pred_y))"
   ]
  },
  {
   "cell_type": "markdown",
   "metadata": {},
   "source": [
    "### <p style=\"color: #FFFFFF;background: #006B8380; text-align: center; padding:5px 0; font-weight: 400\"> Model testing </p>"
   ]
  },
  {
   "cell_type": "markdown",
   "metadata": {},
   "source": [
    "Ahora una prueba más seria seria hacerlo con los datos de test, datos que no hemos tocado, para esto unimos los de entrenamiento (train y validate) y predecimos las de test"
   ]
  },
  {
   "cell_type": "code",
   "execution_count": 740,
   "metadata": {},
   "outputs": [],
   "source": [
    "data_train_x = pd.concat([train_x, validate_x])\n",
    "data_train_y = pd.concat([train_y, validate_y])"
   ]
  },
  {
   "cell_type": "code",
   "execution_count": 741,
   "metadata": {},
   "outputs": [
    {
     "data": {
      "text/html": [
       "<style>#sk-container-id-24 {\n",
       "  /* Definition of color scheme common for light and dark mode */\n",
       "  --sklearn-color-text: black;\n",
       "  --sklearn-color-line: gray;\n",
       "  /* Definition of color scheme for unfitted estimators */\n",
       "  --sklearn-color-unfitted-level-0: #fff5e6;\n",
       "  --sklearn-color-unfitted-level-1: #f6e4d2;\n",
       "  --sklearn-color-unfitted-level-2: #ffe0b3;\n",
       "  --sklearn-color-unfitted-level-3: chocolate;\n",
       "  /* Definition of color scheme for fitted estimators */\n",
       "  --sklearn-color-fitted-level-0: #f0f8ff;\n",
       "  --sklearn-color-fitted-level-1: #d4ebff;\n",
       "  --sklearn-color-fitted-level-2: #b3dbfd;\n",
       "  --sklearn-color-fitted-level-3: cornflowerblue;\n",
       "\n",
       "  /* Specific color for light theme */\n",
       "  --sklearn-color-text-on-default-background: var(--sg-text-color, var(--theme-code-foreground, var(--jp-content-font-color1, black)));\n",
       "  --sklearn-color-background: var(--sg-background-color, var(--theme-background, var(--jp-layout-color0, white)));\n",
       "  --sklearn-color-border-box: var(--sg-text-color, var(--theme-code-foreground, var(--jp-content-font-color1, black)));\n",
       "  --sklearn-color-icon: #696969;\n",
       "\n",
       "  @media (prefers-color-scheme: dark) {\n",
       "    /* Redefinition of color scheme for dark theme */\n",
       "    --sklearn-color-text-on-default-background: var(--sg-text-color, var(--theme-code-foreground, var(--jp-content-font-color1, white)));\n",
       "    --sklearn-color-background: var(--sg-background-color, var(--theme-background, var(--jp-layout-color0, #111)));\n",
       "    --sklearn-color-border-box: var(--sg-text-color, var(--theme-code-foreground, var(--jp-content-font-color1, white)));\n",
       "    --sklearn-color-icon: #878787;\n",
       "  }\n",
       "}\n",
       "\n",
       "#sk-container-id-24 {\n",
       "  color: var(--sklearn-color-text);\n",
       "}\n",
       "\n",
       "#sk-container-id-24 pre {\n",
       "  padding: 0;\n",
       "}\n",
       "\n",
       "#sk-container-id-24 input.sk-hidden--visually {\n",
       "  border: 0;\n",
       "  clip: rect(1px 1px 1px 1px);\n",
       "  clip: rect(1px, 1px, 1px, 1px);\n",
       "  height: 1px;\n",
       "  margin: -1px;\n",
       "  overflow: hidden;\n",
       "  padding: 0;\n",
       "  position: absolute;\n",
       "  width: 1px;\n",
       "}\n",
       "\n",
       "#sk-container-id-24 div.sk-dashed-wrapped {\n",
       "  border: 1px dashed var(--sklearn-color-line);\n",
       "  margin: 0 0.4em 0.5em 0.4em;\n",
       "  box-sizing: border-box;\n",
       "  padding-bottom: 0.4em;\n",
       "  background-color: var(--sklearn-color-background);\n",
       "}\n",
       "\n",
       "#sk-container-id-24 div.sk-container {\n",
       "  /* jupyter's `normalize.less` sets `[hidden] { display: none; }`\n",
       "     but bootstrap.min.css set `[hidden] { display: none !important; }`\n",
       "     so we also need the `!important` here to be able to override the\n",
       "     default hidden behavior on the sphinx rendered scikit-learn.org.\n",
       "     See: https://github.com/scikit-learn/scikit-learn/issues/21755 */\n",
       "  display: inline-block !important;\n",
       "  position: relative;\n",
       "}\n",
       "\n",
       "#sk-container-id-24 div.sk-text-repr-fallback {\n",
       "  display: none;\n",
       "}\n",
       "\n",
       "div.sk-parallel-item,\n",
       "div.sk-serial,\n",
       "div.sk-item {\n",
       "  /* draw centered vertical line to link estimators */\n",
       "  background-image: linear-gradient(var(--sklearn-color-text-on-default-background), var(--sklearn-color-text-on-default-background));\n",
       "  background-size: 2px 100%;\n",
       "  background-repeat: no-repeat;\n",
       "  background-position: center center;\n",
       "}\n",
       "\n",
       "/* Parallel-specific style estimator block */\n",
       "\n",
       "#sk-container-id-24 div.sk-parallel-item::after {\n",
       "  content: \"\";\n",
       "  width: 100%;\n",
       "  border-bottom: 2px solid var(--sklearn-color-text-on-default-background);\n",
       "  flex-grow: 1;\n",
       "}\n",
       "\n",
       "#sk-container-id-24 div.sk-parallel {\n",
       "  display: flex;\n",
       "  align-items: stretch;\n",
       "  justify-content: center;\n",
       "  background-color: var(--sklearn-color-background);\n",
       "  position: relative;\n",
       "}\n",
       "\n",
       "#sk-container-id-24 div.sk-parallel-item {\n",
       "  display: flex;\n",
       "  flex-direction: column;\n",
       "}\n",
       "\n",
       "#sk-container-id-24 div.sk-parallel-item:first-child::after {\n",
       "  align-self: flex-end;\n",
       "  width: 50%;\n",
       "}\n",
       "\n",
       "#sk-container-id-24 div.sk-parallel-item:last-child::after {\n",
       "  align-self: flex-start;\n",
       "  width: 50%;\n",
       "}\n",
       "\n",
       "#sk-container-id-24 div.sk-parallel-item:only-child::after {\n",
       "  width: 0;\n",
       "}\n",
       "\n",
       "/* Serial-specific style estimator block */\n",
       "\n",
       "#sk-container-id-24 div.sk-serial {\n",
       "  display: flex;\n",
       "  flex-direction: column;\n",
       "  align-items: center;\n",
       "  background-color: var(--sklearn-color-background);\n",
       "  padding-right: 1em;\n",
       "  padding-left: 1em;\n",
       "}\n",
       "\n",
       "\n",
       "/* Toggleable style: style used for estimator/Pipeline/ColumnTransformer box that is\n",
       "clickable and can be expanded/collapsed.\n",
       "- Pipeline and ColumnTransformer use this feature and define the default style\n",
       "- Estimators will overwrite some part of the style using the `sk-estimator` class\n",
       "*/\n",
       "\n",
       "/* Pipeline and ColumnTransformer style (default) */\n",
       "\n",
       "#sk-container-id-24 div.sk-toggleable {\n",
       "  /* Default theme specific background. It is overwritten whether we have a\n",
       "  specific estimator or a Pipeline/ColumnTransformer */\n",
       "  background-color: var(--sklearn-color-background);\n",
       "}\n",
       "\n",
       "/* Toggleable label */\n",
       "#sk-container-id-24 label.sk-toggleable__label {\n",
       "  cursor: pointer;\n",
       "  display: block;\n",
       "  width: 100%;\n",
       "  margin-bottom: 0;\n",
       "  padding: 0.5em;\n",
       "  box-sizing: border-box;\n",
       "  text-align: center;\n",
       "}\n",
       "\n",
       "#sk-container-id-24 label.sk-toggleable__label-arrow:before {\n",
       "  /* Arrow on the left of the label */\n",
       "  content: \"▸\";\n",
       "  float: left;\n",
       "  margin-right: 0.25em;\n",
       "  color: var(--sklearn-color-icon);\n",
       "}\n",
       "\n",
       "#sk-container-id-24 label.sk-toggleable__label-arrow:hover:before {\n",
       "  color: var(--sklearn-color-text);\n",
       "}\n",
       "\n",
       "/* Toggleable content - dropdown */\n",
       "\n",
       "#sk-container-id-24 div.sk-toggleable__content {\n",
       "  max-height: 0;\n",
       "  max-width: 0;\n",
       "  overflow: hidden;\n",
       "  text-align: left;\n",
       "  /* unfitted */\n",
       "  background-color: var(--sklearn-color-unfitted-level-0);\n",
       "}\n",
       "\n",
       "#sk-container-id-24 div.sk-toggleable__content.fitted {\n",
       "  /* fitted */\n",
       "  background-color: var(--sklearn-color-fitted-level-0);\n",
       "}\n",
       "\n",
       "#sk-container-id-24 div.sk-toggleable__content pre {\n",
       "  margin: 0.2em;\n",
       "  border-radius: 0.25em;\n",
       "  color: var(--sklearn-color-text);\n",
       "  /* unfitted */\n",
       "  background-color: var(--sklearn-color-unfitted-level-0);\n",
       "}\n",
       "\n",
       "#sk-container-id-24 div.sk-toggleable__content.fitted pre {\n",
       "  /* unfitted */\n",
       "  background-color: var(--sklearn-color-fitted-level-0);\n",
       "}\n",
       "\n",
       "#sk-container-id-24 input.sk-toggleable__control:checked~div.sk-toggleable__content {\n",
       "  /* Expand drop-down */\n",
       "  max-height: 200px;\n",
       "  max-width: 100%;\n",
       "  overflow: auto;\n",
       "}\n",
       "\n",
       "#sk-container-id-24 input.sk-toggleable__control:checked~label.sk-toggleable__label-arrow:before {\n",
       "  content: \"▾\";\n",
       "}\n",
       "\n",
       "/* Pipeline/ColumnTransformer-specific style */\n",
       "\n",
       "#sk-container-id-24 div.sk-label input.sk-toggleable__control:checked~label.sk-toggleable__label {\n",
       "  color: var(--sklearn-color-text);\n",
       "  background-color: var(--sklearn-color-unfitted-level-2);\n",
       "}\n",
       "\n",
       "#sk-container-id-24 div.sk-label.fitted input.sk-toggleable__control:checked~label.sk-toggleable__label {\n",
       "  background-color: var(--sklearn-color-fitted-level-2);\n",
       "}\n",
       "\n",
       "/* Estimator-specific style */\n",
       "\n",
       "/* Colorize estimator box */\n",
       "#sk-container-id-24 div.sk-estimator input.sk-toggleable__control:checked~label.sk-toggleable__label {\n",
       "  /* unfitted */\n",
       "  background-color: var(--sklearn-color-unfitted-level-2);\n",
       "}\n",
       "\n",
       "#sk-container-id-24 div.sk-estimator.fitted input.sk-toggleable__control:checked~label.sk-toggleable__label {\n",
       "  /* fitted */\n",
       "  background-color: var(--sklearn-color-fitted-level-2);\n",
       "}\n",
       "\n",
       "#sk-container-id-24 div.sk-label label.sk-toggleable__label,\n",
       "#sk-container-id-24 div.sk-label label {\n",
       "  /* The background is the default theme color */\n",
       "  color: var(--sklearn-color-text-on-default-background);\n",
       "}\n",
       "\n",
       "/* On hover, darken the color of the background */\n",
       "#sk-container-id-24 div.sk-label:hover label.sk-toggleable__label {\n",
       "  color: var(--sklearn-color-text);\n",
       "  background-color: var(--sklearn-color-unfitted-level-2);\n",
       "}\n",
       "\n",
       "/* Label box, darken color on hover, fitted */\n",
       "#sk-container-id-24 div.sk-label.fitted:hover label.sk-toggleable__label.fitted {\n",
       "  color: var(--sklearn-color-text);\n",
       "  background-color: var(--sklearn-color-fitted-level-2);\n",
       "}\n",
       "\n",
       "/* Estimator label */\n",
       "\n",
       "#sk-container-id-24 div.sk-label label {\n",
       "  font-family: monospace;\n",
       "  font-weight: bold;\n",
       "  display: inline-block;\n",
       "  line-height: 1.2em;\n",
       "}\n",
       "\n",
       "#sk-container-id-24 div.sk-label-container {\n",
       "  text-align: center;\n",
       "}\n",
       "\n",
       "/* Estimator-specific */\n",
       "#sk-container-id-24 div.sk-estimator {\n",
       "  font-family: monospace;\n",
       "  border: 1px dotted var(--sklearn-color-border-box);\n",
       "  border-radius: 0.25em;\n",
       "  box-sizing: border-box;\n",
       "  margin-bottom: 0.5em;\n",
       "  /* unfitted */\n",
       "  background-color: var(--sklearn-color-unfitted-level-0);\n",
       "}\n",
       "\n",
       "#sk-container-id-24 div.sk-estimator.fitted {\n",
       "  /* fitted */\n",
       "  background-color: var(--sklearn-color-fitted-level-0);\n",
       "}\n",
       "\n",
       "/* on hover */\n",
       "#sk-container-id-24 div.sk-estimator:hover {\n",
       "  /* unfitted */\n",
       "  background-color: var(--sklearn-color-unfitted-level-2);\n",
       "}\n",
       "\n",
       "#sk-container-id-24 div.sk-estimator.fitted:hover {\n",
       "  /* fitted */\n",
       "  background-color: var(--sklearn-color-fitted-level-2);\n",
       "}\n",
       "\n",
       "/* Specification for estimator info (e.g. \"i\" and \"?\") */\n",
       "\n",
       "/* Common style for \"i\" and \"?\" */\n",
       "\n",
       ".sk-estimator-doc-link,\n",
       "a:link.sk-estimator-doc-link,\n",
       "a:visited.sk-estimator-doc-link {\n",
       "  float: right;\n",
       "  font-size: smaller;\n",
       "  line-height: 1em;\n",
       "  font-family: monospace;\n",
       "  background-color: var(--sklearn-color-background);\n",
       "  border-radius: 1em;\n",
       "  height: 1em;\n",
       "  width: 1em;\n",
       "  text-decoration: none !important;\n",
       "  margin-left: 1ex;\n",
       "  /* unfitted */\n",
       "  border: var(--sklearn-color-unfitted-level-1) 1pt solid;\n",
       "  color: var(--sklearn-color-unfitted-level-1);\n",
       "}\n",
       "\n",
       ".sk-estimator-doc-link.fitted,\n",
       "a:link.sk-estimator-doc-link.fitted,\n",
       "a:visited.sk-estimator-doc-link.fitted {\n",
       "  /* fitted */\n",
       "  border: var(--sklearn-color-fitted-level-1) 1pt solid;\n",
       "  color: var(--sklearn-color-fitted-level-1);\n",
       "}\n",
       "\n",
       "/* On hover */\n",
       "div.sk-estimator:hover .sk-estimator-doc-link:hover,\n",
       ".sk-estimator-doc-link:hover,\n",
       "div.sk-label-container:hover .sk-estimator-doc-link:hover,\n",
       ".sk-estimator-doc-link:hover {\n",
       "  /* unfitted */\n",
       "  background-color: var(--sklearn-color-unfitted-level-3);\n",
       "  color: var(--sklearn-color-background);\n",
       "  text-decoration: none;\n",
       "}\n",
       "\n",
       "div.sk-estimator.fitted:hover .sk-estimator-doc-link.fitted:hover,\n",
       ".sk-estimator-doc-link.fitted:hover,\n",
       "div.sk-label-container:hover .sk-estimator-doc-link.fitted:hover,\n",
       ".sk-estimator-doc-link.fitted:hover {\n",
       "  /* fitted */\n",
       "  background-color: var(--sklearn-color-fitted-level-3);\n",
       "  color: var(--sklearn-color-background);\n",
       "  text-decoration: none;\n",
       "}\n",
       "\n",
       "/* Span, style for the box shown on hovering the info icon */\n",
       ".sk-estimator-doc-link span {\n",
       "  display: none;\n",
       "  z-index: 9999;\n",
       "  position: relative;\n",
       "  font-weight: normal;\n",
       "  right: .2ex;\n",
       "  padding: .5ex;\n",
       "  margin: .5ex;\n",
       "  width: min-content;\n",
       "  min-width: 20ex;\n",
       "  max-width: 50ex;\n",
       "  color: var(--sklearn-color-text);\n",
       "  box-shadow: 2pt 2pt 4pt #999;\n",
       "  /* unfitted */\n",
       "  background: var(--sklearn-color-unfitted-level-0);\n",
       "  border: .5pt solid var(--sklearn-color-unfitted-level-3);\n",
       "}\n",
       "\n",
       ".sk-estimator-doc-link.fitted span {\n",
       "  /* fitted */\n",
       "  background: var(--sklearn-color-fitted-level-0);\n",
       "  border: var(--sklearn-color-fitted-level-3);\n",
       "}\n",
       "\n",
       ".sk-estimator-doc-link:hover span {\n",
       "  display: block;\n",
       "}\n",
       "\n",
       "/* \"?\"-specific style due to the `<a>` HTML tag */\n",
       "\n",
       "#sk-container-id-24 a.estimator_doc_link {\n",
       "  float: right;\n",
       "  font-size: 1rem;\n",
       "  line-height: 1em;\n",
       "  font-family: monospace;\n",
       "  background-color: var(--sklearn-color-background);\n",
       "  border-radius: 1rem;\n",
       "  height: 1rem;\n",
       "  width: 1rem;\n",
       "  text-decoration: none;\n",
       "  /* unfitted */\n",
       "  color: var(--sklearn-color-unfitted-level-1);\n",
       "  border: var(--sklearn-color-unfitted-level-1) 1pt solid;\n",
       "}\n",
       "\n",
       "#sk-container-id-24 a.estimator_doc_link.fitted {\n",
       "  /* fitted */\n",
       "  border: var(--sklearn-color-fitted-level-1) 1pt solid;\n",
       "  color: var(--sklearn-color-fitted-level-1);\n",
       "}\n",
       "\n",
       "/* On hover */\n",
       "#sk-container-id-24 a.estimator_doc_link:hover {\n",
       "  /* unfitted */\n",
       "  background-color: var(--sklearn-color-unfitted-level-3);\n",
       "  color: var(--sklearn-color-background);\n",
       "  text-decoration: none;\n",
       "}\n",
       "\n",
       "#sk-container-id-24 a.estimator_doc_link.fitted:hover {\n",
       "  /* fitted */\n",
       "  background-color: var(--sklearn-color-fitted-level-3);\n",
       "}\n",
       "</style><div id=\"sk-container-id-24\" class=\"sk-top-container\"><div class=\"sk-text-repr-fallback\"><pre>RandomForestClassifier(max_depth=10, n_estimators=59, random_state=10)</pre><b>In a Jupyter environment, please rerun this cell to show the HTML representation or trust the notebook. <br />On GitHub, the HTML representation is unable to render, please try loading this page with nbviewer.org.</b></div><div class=\"sk-container\" hidden><div class=\"sk-item\"><div class=\"sk-estimator fitted sk-toggleable\"><input class=\"sk-toggleable__control sk-hidden--visually\" id=\"sk-estimator-id-102\" type=\"checkbox\" checked><label for=\"sk-estimator-id-102\" class=\"sk-toggleable__label fitted sk-toggleable__label-arrow fitted\">&nbsp;&nbsp;RandomForestClassifier<a class=\"sk-estimator-doc-link fitted\" rel=\"noreferrer\" target=\"_blank\" href=\"https://scikit-learn.org/1.4/modules/generated/sklearn.ensemble.RandomForestClassifier.html\">?<span>Documentation for RandomForestClassifier</span></a><span class=\"sk-estimator-doc-link fitted\">i<span>Fitted</span></span></label><div class=\"sk-toggleable__content fitted\"><pre>RandomForestClassifier(max_depth=10, n_estimators=59, random_state=10)</pre></div> </div></div></div></div>"
      ],
      "text/plain": [
       "RandomForestClassifier(max_depth=10, n_estimators=59, random_state=10)"
      ]
     },
     "execution_count": 741,
     "metadata": {},
     "output_type": "execute_result"
    }
   ],
   "source": [
    "rfc = RandomForestClassifier(n_estimators=59,random_state=10, criterion='gini',max_depth=10)\n",
    "rfc.fit(data_train_x, data_train_y)"
   ]
  },
  {
   "cell_type": "code",
   "execution_count": 742,
   "metadata": {},
   "outputs": [
    {
     "name": "stdout",
     "output_type": "stream",
     "text": [
      "0.7931847858135714 0.9143835616438356\n"
     ]
    }
   ],
   "source": [
    "from sklearn.metrics import accuracy_score, recall_score\n",
    "\n",
    "test_pred_y = rfc.predict(test_x)\n",
    "print(accuracy_score(test_pred_y, test_y), recall_score(test_pred_y, test_y))"
   ]
  },
  {
   "cell_type": "markdown",
   "metadata": {},
   "source": [
    "## <p style=\"color: #FFFFFF;background: #007E4A80; text-align: center; padding:5px 0; font-weight: 400\"> Conclusión </p>"
   ]
  },
  {
   "cell_type": "markdown",
   "metadata": {},
   "source": [
    "Guardaré el <code>df</code> original, puesto que vemos que el modelo termina \"bien\", en lo que conozco un 80% de accuracy, con 90% de recall estaria \"bien\", no sé si esté sobre-ajustado, más adelante cuando aprenda técnicas de sobreajustado y tenga más experiencia lo revisaré mejor.\n"
   ]
  },
  {
   "cell_type": "code",
   "execution_count": 743,
   "metadata": {},
   "outputs": [],
   "source": [
    "ruta = 'data/hotel_booking_clean.csv'\n",
    "df.to_csv(ruta)"
   ]
  },
  {
   "cell_type": "markdown",
   "metadata": {},
   "source": [
    "### Ahora solo escribo las columnas que voy a usar en mi pipeline"
   ]
  },
  {
   "cell_type": "markdown",
   "metadata": {},
   "source": [
    "- Variables para el encoding<br>\n",
    "`['hotel','meal','distribution_channel','reserved_room_type','assigned_room_type','customer_type','deposit_type','arrival_date_month']`<br>\n",
    "\n",
    "- Variables para el binarizer<br>\n",
    "`['previous_cancellations','previous_bookings_not_canceled','booking_changes','required_car_parking_spaces','total_of_special_requests']`<br>\n",
    "\n",
    "- Variables a escalar<br>\n",
    "`['adr']`<br>"
   ]
  },
  {
   "cell_type": "code",
   "execution_count": 744,
   "metadata": {},
   "outputs": [
    {
     "data": {
      "text/plain": [
       "Index(['lead_time', 'arrival_date_year', 'arrival_date_week_number',\n",
       "       'arrival_date_day_of_month', 'stays_in_weekend_nights',\n",
       "       'stays_in_week_nights', 'adults', 'children', 'babies',\n",
       "       'is_repeated_guest', 'days_in_waiting_list'],\n",
       "      dtype='object')"
      ]
     },
     "execution_count": 744,
     "metadata": {},
     "output_type": "execute_result"
    }
   ],
   "source": [
    "# lo que hago es agarrar el dataframe original, eliminar las variables de arriba, las extra que eliminé en el encoding (market_segment y country), y por supuesto eliminar el target (is_canceled)\n",
    "\n",
    "cols = ['is_canceled','market_segment','country','hotel','meal','distribution_channel','reserved_room_type','assigned_room_type','customer_type','deposit_type','arrival_date_month','previous_cancellations','previous_bookings_not_canceled','booking_changes','required_car_parking_spaces','total_of_special_requests','adr']\n",
    "\n",
    "passthrough_cols = df.drop(columns=cols, axis=1).columns\n",
    "passthrough_cols"
   ]
  },
  {
   "cell_type": "markdown",
   "metadata": {},
   "source": [
    "- Variables para el passthrough<br>\n",
    "`['lead_time', 'arrival_date_year', 'arrival_date_week_number',\n",
    "       'arrival_date_day_of_month', 'stays_in_weekend_nights',\n",
    "       'stays_in_week_nights', 'adults', 'children', 'babies',\n",
    "       'is_repeated_guest', 'days_in_waiting_list']`"
   ]
  },
  {
   "cell_type": "markdown",
   "metadata": {},
   "source": [
    "- Mejor configuración del modelo de random forest classifier<br>\n",
    "`RandomForestClassifier(n_estimators=59,random_state=10, criterion='gini',max_depth=10)`"
   ]
  }
 ],
 "metadata": {
  "kernelspec": {
   "display_name": "env",
   "language": "python",
   "name": "python3"
  },
  "language_info": {
   "codemirror_mode": {
    "name": "ipython",
    "version": 3
   },
   "file_extension": ".py",
   "mimetype": "text/x-python",
   "name": "python",
   "nbconvert_exporter": "python",
   "pygments_lexer": "ipython3",
   "version": "3.10.11"
  }
 },
 "nbformat": 4,
 "nbformat_minor": 2
}
